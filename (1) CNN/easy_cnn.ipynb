{
 "cells": [
  {
   "metadata": {},
   "cell_type": "markdown",
   "source": "## 构建卷积神经网络",
   "id": "3173bbf30ecbdf92"
  },
  {
   "metadata": {
    "ExecuteTime": {
     "end_time": "2024-10-05T14:32:20.657364Z",
     "start_time": "2024-10-05T14:32:08.636884Z"
    }
   },
   "cell_type": "code",
   "source": [
    "import torch\n",
    "import torch.nn as nn\n",
    "import torch.optim as optim\n",
    "import torch.nn.functional as F\n",
    "from torchvision import datasets, transforms\n",
    "import matplotlib.pyplot as plt\n",
    "import numpy as np \n",
    "%matplotlib inline"
   ],
   "id": "ff71b38d00088743",
   "outputs": [],
   "execution_count": 1
  },
  {
   "metadata": {},
   "cell_type": "markdown",
   "source": "## 读取数据",
   "id": "e79ab08cf75a4609"
  },
  {
   "metadata": {
    "ExecuteTime": {
     "end_time": "2024-10-05T14:45:30.130897Z",
     "start_time": "2024-10-05T14:45:30.082510Z"
    }
   },
   "cell_type": "code",
   "source": [
    "# 定义超参数\n",
    "input_size = 28 # 图像尺寸大小为28*28\n",
    "num_classes = 10\n",
    "num_epochs = 3\n",
    "batch_size = 64\n",
    "\n",
    "# 训练集\n",
    "train_dataset = datasets.MNIST(root='./data', train=True, transform=transforms.ToTensor(), download=True)\n",
    "\n",
    "# 测试集\n",
    "test_dataset = datasets.MNIST(root='./data', train=False, transform=transforms.ToTensor())\n",
    "\n",
    "# 构建batch数据\n",
    "train_loader = torch.utils.data.DataLoader(dataset=train_dataset, batch_size=batch_size, shuffle=True)\n",
    "test_loader = torch.utils.data.DataLoader(dataset=test_dataset, batch_size=batch_size, shuffle=True)"
   ],
   "id": "944eeb55a5c0b5b5",
   "outputs": [],
   "execution_count": 9
  },
  {
   "metadata": {},
   "cell_type": "markdown",
   "source": [
    "## 构建卷积网络\n",
    "* 可以把一组卷积层、relu和池化写成一个模块"
   ],
   "id": "b3876bc9f797b222"
  },
  {
   "metadata": {
    "ExecuteTime": {
     "end_time": "2024-10-05T15:27:38.898593Z",
     "start_time": "2024-10-05T15:27:38.888828Z"
    }
   },
   "cell_type": "code",
   "source": [
    "class CNN(nn.Module):\n",
    "    def __init__(self):\n",
    "        super(CNN, self).__init__()     # 完成父类的初始化构造\n",
    "        self.conv1 = nn.Sequential(     # 输入大小（1，28，28）\n",
    "            nn.Conv2d(in_channels=1,    # 输入图片的通道数量，1就是灰度图\n",
    "                      out_channels=16,  # 输出的特征图的通道数量\n",
    "                      kernel_size=5,    # 卷积核大小，与特征图的大小成反比\n",
    "                      stride=1, # 卷积核移动的步长\n",
    "                      padding=2 # 边缘填充\n",
    "                      ),        # 输出的特征图的大小是（16， 28，28）\n",
    "            nn.ReLU(),\n",
    "            nn.MaxPool2d(kernel_size=2),  # 进行池化操作，在2*2的区域 中选出最大的数值\n",
    "        )   # 第一个模块输出的大小是（16，14，14）通道数，高度，宽度\n",
    "        self.conv2 = nn.Sequential(\n",
    "            nn.Conv2d(in_channels=16, out_channels=32, kernel_size=5, stride=1, padding=2 ), # 输出的特征图的大小是（32，14，14）\n",
    "            nn.ReLU(),\n",
    "            nn.MaxPool2d(kernel_size=2), \n",
    "        )   # 第二个模块输出的大小是（32，7，7）通道数，高度，宽度\n",
    "        self.out = nn.Linear(32 * 7 * 7, num_classes)   # 全连接层，输入是拉伸后的一维向量\n",
    "        \n",
    "    def forward(self, x):\n",
    "        x = self.conv1(x)\n",
    "        x = self.conv2(x)\n",
    "        x = x.view(x.size(0), -1)   # 输入是希望得到的新的尺寸(batch_size, 32*7*7),原x尺寸为(batch_size, channels, height, width)，-1是自动计算第二个维度的\n",
    "        x = self.out(x)\n",
    "        return x\n",
    "        "
   ],
   "id": "8365c8d765a4c90f",
   "outputs": [],
   "execution_count": 12
  },
  {
   "metadata": {},
   "cell_type": "markdown",
   "source": "## 准确率评估",
   "id": "41b6ebedcf9ca324"
  },
  {
   "metadata": {
    "ExecuteTime": {
     "end_time": "2024-10-05T15:30:10.643875Z",
     "start_time": "2024-10-05T15:30:10.636077Z"
    }
   },
   "cell_type": "code",
   "source": [
    "def accuracy(predictions, labels):\n",
    "    pred = torch.max(predictions.data, 1)[1]\n",
    "    rights = pred.eq(labels.data).view_as(pred).sum()\n",
    "    return rights, len(labels)"
   ],
   "id": "82fe8d30e1e48d16",
   "outputs": [],
   "execution_count": 17
  },
  {
   "metadata": {},
   "cell_type": "markdown",
   "source": "## 模型训练",
   "id": "fa2bd909f3cc9cbb"
  },
  {
   "metadata": {
    "ExecuteTime": {
     "end_time": "2024-10-05T15:54:26.392693Z",
     "start_time": "2024-10-05T15:52:22.636582Z"
    }
   },
   "cell_type": "code",
   "source": [
    "net = CNN() # 实例化网络\n",
    "criterion = nn.CrossEntropyLoss()   # 损失函数，交叉熵函数用于分类任务\n",
    "optimizer = optim.Adam(net.parameters(), lr=0.001)  # 优化器\n",
    "\n",
    "for epoch in range(num_epochs):\n",
    "    train_rights = []   # 保存当前epoch的结果\n",
    "    \n",
    "    for batch_idx, (data, target) in enumerate(train_loader):   # 对loader中的每个batch进行循环\n",
    "        net.train()\n",
    "        output = net(data)\n",
    "        loss = criterion(output, target)\n",
    "        optimizer.zero_grad()\n",
    "        loss.backward()\n",
    "        optimizer.step()\n",
    "        right = accuracy(output, target)\n",
    "        train_rights.append(right)\n",
    "        \n",
    "        if batch_idx % 100 == 0:\n",
    "            net.eval()\n",
    "            val_rights = []\n",
    "            \n",
    "            for (data, target) in test_loader:\n",
    "                output = net(data)\n",
    "                right = accuracy(output, target)\n",
    "                val_rights.append(right)\n",
    "            \n",
    "            # 计算准确率\n",
    "            train_r = (sum([tup[0] for tup in train_rights]), sum([tup[1] for tup in train_rights]))\n",
    "            val_r = (sum([tup[0] for tup in val_rights]), sum([tup[1] for tup in val_rights]))\n",
    "            \n",
    "            print(f\"Epoch {epoch+1}/{num_epochs}.. 损失{loss.data} 训练集准确率：{train_r[0].numpy() / train_r[1]}, 测试集准确率：{val_r[0].numpy() / val_r[1]}\")\n",
    "        "
   ],
   "id": "993c645e4a784998",
   "outputs": [
    {
     "name": "stdout",
     "output_type": "stream",
     "text": [
      "Epoch 1/3.. 损失2.3004086017608643 训练集准确率：0.1875, 测试集准确率：0.0958\n",
      "Epoch 1/3.. 损失0.3133316934108734 训练集准确率：0.7872834158415841, 测试集准确率：0.9283\n",
      "Epoch 1/3.. 损失0.24484160542488098 训练集准确率：0.857353855721393, 测试集准确率：0.9529\n",
      "Epoch 1/3.. 损失0.11253324896097183 训练集准确率：0.8892753322259136, 测试集准确率：0.9648\n",
      "Epoch 1/3.. 损失0.053633373230695724 训练集准确率：0.90776963840399, 测试集准确率：0.9694\n",
      "Epoch 1/3.. 损失0.12236596643924713 训练集准确率：0.9192864271457086, 测试集准确率：0.9731\n",
      "Epoch 1/3.. 损失0.05259229242801666 训练集准确率：0.9281146006655574, 测试集准确率：0.9799\n",
      "Epoch 1/3.. 损失0.1264343112707138 训练集准确率：0.9349366975748931, 测试集准确率：0.9783\n",
      "Epoch 1/3.. 损失0.05717533454298973 训练集准确率：0.9398213171036205, 测试集准确率：0.9758\n",
      "Epoch 1/3.. 损失0.10066297650337219 训练集准确率：0.9437950887902331, 测试集准确率：0.9801\n",
      "Epoch 2/3.. 损失0.01573813520371914 训练集准确率：1.0, 测试集准确率：0.9767\n",
      "Epoch 2/3.. 损失0.13630877435207367 训练集准确率：0.9789603960396039, 测试集准确率：0.981\n",
      "Epoch 2/3.. 损失0.160904660820961 训练集准确率：0.9796330845771144, 测试集准确率：0.9846\n",
      "Epoch 2/3.. 损失0.016554001718759537 训练集准确率：0.9801702657807309, 测试集准确率：0.9808\n",
      "Epoch 2/3.. 损失0.09426067769527435 训练集准确率：0.9798550498753117, 测试集准确率：0.9868\n",
      "Epoch 2/3.. 损失0.03894587978720665 训练集准确率：0.9806324850299402, 测试集准确率：0.9857\n",
      "Epoch 2/3.. 损失0.19700883328914642 训练集准确率：0.9809432196339434, 测试集准确率：0.9864\n",
      "Epoch 2/3.. 损失0.053281813859939575 训练集准确率：0.9809424037089871, 测试集准确率：0.9844\n",
      "Epoch 2/3.. 损失0.10848964005708694 训练集准确率：0.9815660112359551, 测试集准确率：0.9854\n",
      "Epoch 2/3.. 损失0.11212441325187683 训练集准确率：0.9820511931187569, 测试集准确率：0.986\n",
      "Epoch 3/3.. 损失0.018407775089144707 训练集准确率：1.0, 测试集准确率：0.9886\n",
      "Epoch 3/3.. 损失0.004051886033266783 训练集准确率：0.9857673267326733, 测试集准确率：0.988\n",
      "Epoch 3/3.. 损失0.012220161035656929 训练集准确率：0.9864738805970149, 测试集准确率：0.9837\n",
      "Epoch 3/3.. 损失0.030923092737793922 训练集准确率：0.9863475913621262, 测试集准确率：0.9886\n",
      "Epoch 3/3.. 损失0.022257125005126 训练集准确率：0.9866349750623441, 测试集准确率：0.9893\n",
      "Epoch 3/3.. 损失0.0017170319333672523 训练集准确率：0.9865269461077845, 测试集准确率：0.9881\n",
      "Epoch 3/3.. 损失0.020498454570770264 训练集准确率：0.9863768718801996, 测试集准确率：0.9884\n",
      "Epoch 3/3.. 损失0.03675047308206558 训练集准确率：0.9864925106990015, 测试集准确率：0.9889\n",
      "Epoch 3/3.. 损失0.07909709215164185 训练集准确率：0.9867938514357054, 测试集准确率：0.9879\n",
      "Epoch 3/3.. 损失0.027096569538116455 训练集准确率：0.9866988068812431, 测试集准确率：0.989\n"
     ]
    }
   ],
   "execution_count": 18
  }
 ],
 "metadata": {
  "kernelspec": {
   "display_name": "Python 3",
   "language": "python",
   "name": "python3"
  },
  "language_info": {
   "codemirror_mode": {
    "name": "ipython",
    "version": 2
   },
   "file_extension": ".py",
   "mimetype": "text/x-python",
   "name": "python",
   "nbconvert_exporter": "python",
   "pygments_lexer": "ipython2",
   "version": "2.7.6"
  }
 },
 "nbformat": 4,
 "nbformat_minor": 5
}
