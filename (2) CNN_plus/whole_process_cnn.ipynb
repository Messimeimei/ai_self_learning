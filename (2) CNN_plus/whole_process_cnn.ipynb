{
 "cells": [
  {
   "metadata": {},
   "cell_type": "markdown",
   "source": "## pytorch完整流程",
   "id": "e4bea2d1453bccdb"
  },
  {
   "metadata": {},
   "cell_type": "markdown",
   "source": [
    "### 数据读取\n",
    "* 如果是一个类别一个文件夹，则可以使用ImageFolder\n",
    "* 如果特殊数据集，则需要自定义一个数据集类，用于数据的加载、预处理等，并实现len，getitem等方法"
   ],
   "id": "2a9bddfbb90cc19b"
  },
  {
   "metadata": {
    "ExecuteTime": {
     "end_time": "2024-10-06T15:55:28.362044Z",
     "start_time": "2024-10-06T15:55:19.470763Z"
    }
   },
   "cell_type": "code",
   "source": [
    "import os\n",
    "import matplotlib.pyplot as plt\n",
    "%matplotlib inline\n",
    "import numpy as np\n",
    "import torch\n",
    "import torch.optim as optim\n",
    "from torch import nn\n",
    "import torchvision\n",
    "from torchvision import datasets, transforms, models\n",
    "import imageio\n",
    "import time\n",
    "import warnings\n",
    "import random\n",
    "import sys\n",
    "import copy\n",
    "import json\n",
    "from PIL import Image"
   ],
   "id": "3180d9572cf5e735",
   "outputs": [],
   "execution_count": 1
  },
  {
   "metadata": {},
   "cell_type": "markdown",
   "source": "### 先解压文件",
   "id": "b4c795d1f4d36f98"
  },
  {
   "metadata": {
    "ExecuteTime": {
     "end_time": "2024-10-06T16:28:50.099400Z",
     "start_time": "2024-10-06T16:28:25.871662Z"
    }
   },
   "cell_type": "code",
   "source": [
    "import zipfile\n",
    "\n",
    "zip_file_path = 'tiny-imagenet-200.zip'\n",
    "extract_path = 'tiny-imagenet-200/'\n",
    "\n",
    "with zipfile.ZipFile(zip_file_path, 'r') as zip_ref:\n",
    "    zip_ref.extractall(extract_path)"
   ],
   "id": "40f22477df96d42f",
   "outputs": [
    {
     "ename": "KeyboardInterrupt",
     "evalue": "",
     "output_type": "error",
     "traceback": [
      "\u001B[1;31m---------------------------------------------------------------------------\u001B[0m",
      "\u001B[1;31mKeyboardInterrupt\u001B[0m                         Traceback (most recent call last)",
      "Cell \u001B[1;32mIn[9], line 7\u001B[0m\n\u001B[0;32m      4\u001B[0m extract_path \u001B[38;5;241m=\u001B[39m \u001B[38;5;124m'\u001B[39m\u001B[38;5;124mtiny-imagenet-200/\u001B[39m\u001B[38;5;124m'\u001B[39m\n\u001B[0;32m      6\u001B[0m \u001B[38;5;28;01mwith\u001B[39;00m zipfile\u001B[38;5;241m.\u001B[39mZipFile(zip_file_path, \u001B[38;5;124m'\u001B[39m\u001B[38;5;124mr\u001B[39m\u001B[38;5;124m'\u001B[39m) \u001B[38;5;28;01mas\u001B[39;00m zip_ref:\n\u001B[1;32m----> 7\u001B[0m     \u001B[43mzip_ref\u001B[49m\u001B[38;5;241;43m.\u001B[39;49m\u001B[43mextractall\u001B[49m\u001B[43m(\u001B[49m\u001B[43mextract_path\u001B[49m\u001B[43m)\u001B[49m\n",
      "File \u001B[1;32mE:\\Anaconda3\\envs\\ai-self-learning\\Lib\\zipfile.py:1702\u001B[0m, in \u001B[0;36mZipFile.extractall\u001B[1;34m(self, path, members, pwd)\u001B[0m\n\u001B[0;32m   1699\u001B[0m     path \u001B[38;5;241m=\u001B[39m os\u001B[38;5;241m.\u001B[39mfspath(path)\n\u001B[0;32m   1701\u001B[0m \u001B[38;5;28;01mfor\u001B[39;00m zipinfo \u001B[38;5;129;01min\u001B[39;00m members:\n\u001B[1;32m-> 1702\u001B[0m     \u001B[38;5;28;43mself\u001B[39;49m\u001B[38;5;241;43m.\u001B[39;49m\u001B[43m_extract_member\u001B[49m\u001B[43m(\u001B[49m\u001B[43mzipinfo\u001B[49m\u001B[43m,\u001B[49m\u001B[43m \u001B[49m\u001B[43mpath\u001B[49m\u001B[43m,\u001B[49m\u001B[43m \u001B[49m\u001B[43mpwd\u001B[49m\u001B[43m)\u001B[49m\n",
      "File \u001B[1;32mE:\\Anaconda3\\envs\\ai-self-learning\\Lib\\zipfile.py:1755\u001B[0m, in \u001B[0;36mZipFile._extract_member\u001B[1;34m(self, member, targetpath, pwd)\u001B[0m\n\u001B[0;32m   1752\u001B[0m         os\u001B[38;5;241m.\u001B[39mmkdir(targetpath)\n\u001B[0;32m   1753\u001B[0m     \u001B[38;5;28;01mreturn\u001B[39;00m targetpath\n\u001B[1;32m-> 1755\u001B[0m \u001B[43m\u001B[49m\u001B[38;5;28;43;01mwith\u001B[39;49;00m\u001B[43m \u001B[49m\u001B[38;5;28;43mself\u001B[39;49m\u001B[38;5;241;43m.\u001B[39;49m\u001B[43mopen\u001B[49m\u001B[43m(\u001B[49m\u001B[43mmember\u001B[49m\u001B[43m,\u001B[49m\u001B[43m \u001B[49m\u001B[43mpwd\u001B[49m\u001B[38;5;241;43m=\u001B[39;49m\u001B[43mpwd\u001B[49m\u001B[43m)\u001B[49m\u001B[43m \u001B[49m\u001B[38;5;28;43;01mas\u001B[39;49;00m\u001B[43m \u001B[49m\u001B[43msource\u001B[49m\u001B[43m,\u001B[49m\u001B[43m \u001B[49m\u001B[43m\\\u001B[49m\n\u001B[0;32m   1756\u001B[0m \u001B[43m     \u001B[49m\u001B[38;5;28;43mopen\u001B[39;49m\u001B[43m(\u001B[49m\u001B[43mtargetpath\u001B[49m\u001B[43m,\u001B[49m\u001B[43m \u001B[49m\u001B[38;5;124;43m\"\u001B[39;49m\u001B[38;5;124;43mwb\u001B[39;49m\u001B[38;5;124;43m\"\u001B[39;49m\u001B[43m)\u001B[49m\u001B[43m \u001B[49m\u001B[38;5;28;43;01mas\u001B[39;49;00m\u001B[43m \u001B[49m\u001B[43mtarget\u001B[49m\u001B[43m:\u001B[49m\n\u001B[0;32m   1757\u001B[0m \u001B[43m    \u001B[49m\u001B[43mshutil\u001B[49m\u001B[38;5;241;43m.\u001B[39;49m\u001B[43mcopyfileobj\u001B[49m\u001B[43m(\u001B[49m\u001B[43msource\u001B[49m\u001B[43m,\u001B[49m\u001B[43m \u001B[49m\u001B[43mtarget\u001B[49m\u001B[43m)\u001B[49m\n\u001B[0;32m   1759\u001B[0m \u001B[38;5;28;01mreturn\u001B[39;00m targetpath\n",
      "\u001B[1;31mKeyboardInterrupt\u001B[0m: "
     ]
    }
   ],
   "execution_count": 9
  },
  {
   "metadata": {},
   "cell_type": "code",
   "outputs": [],
   "execution_count": null,
   "source": "",
   "id": "ceea210d72693a1b"
  }
 ],
 "metadata": {
  "kernelspec": {
   "display_name": "Python 3",
   "language": "python",
   "name": "python3"
  },
  "language_info": {
   "codemirror_mode": {
    "name": "ipython",
    "version": 2
   },
   "file_extension": ".py",
   "mimetype": "text/x-python",
   "name": "python",
   "nbconvert_exporter": "python",
   "pygments_lexer": "ipython2",
   "version": "2.7.6"
  }
 },
 "nbformat": 4,
 "nbformat_minor": 5
}
